{
 "cells": [
  {
   "cell_type": "code",
   "execution_count": 1,
   "id": "bf6113a7-69ab-42d2-b88b-cdae8486071a",
   "metadata": {
    "tags": []
   },
   "outputs": [
    {
     "name": "stderr",
     "output_type": "stream",
     "text": [
      "WARNING:absl:Compiled the loaded model, but the compiled metrics have yet to be built. `model.compile_metrics` will be empty until you train or evaluate the model.\n",
      "WARNING:werkzeug:Werkzeug appears to be used in a production deployment. Consider switching to a production web server instead.\n"
     ]
    },
    {
     "name": "stdout",
     "output_type": "stream",
     "text": [
      " * Serving Flask app '__main__'\n",
      " * Debug mode: off\n"
     ]
    },
    {
     "name": "stderr",
     "output_type": "stream",
     "text": [
      "INFO:werkzeug:\u001b[31m\u001b[1mWARNING: This is a development server. Do not use it in a production deployment. Use a production WSGI server instead.\u001b[0m\n",
      " * Running on all addresses (0.0.0.0)\n",
      " * Running on http://127.0.0.1:5000\n",
      " * Running on http://192.168.1.3:5000\n",
      "INFO:werkzeug:\u001b[33mPress CTRL+C to quit\u001b[0m\n",
      "INFO:werkzeug:127.0.0.1 - - [18/Nov/2024 06:20:37] \"GET /socket.io/?EIO=4&transport=polling&t=ao6e8wc4 HTTP/1.1\" 200 -\n",
      "INFO:werkzeug:127.0.0.1 - - [18/Nov/2024 06:20:37] \"POST /socket.io/?EIO=4&transport=polling&t=ao6n5zly&sid=vSb1LX5idY0ts-UbAAAA HTTP/1.1\" 200 -\n",
      "INFO:werkzeug:127.0.0.1 - - [18/Nov/2024 06:20:37] \"GET /socket.io/?EIO=4&transport=polling&t=ao6n6n1i&sid=vSb1LX5idY0ts-UbAAAA HTTP/1.1\" 200 -\n",
      "INFO:werkzeug:127.0.0.1 - - [18/Nov/2024 06:20:37] \"GET /socket.io/?EIO=4&transport=polling&t=ao6vxysb&sid=vSb1LX5idY0ts-UbAAAA HTTP/1.1\" 200 -\n"
     ]
    },
    {
     "name": "stdout",
     "output_type": "stream",
     "text": [
      "Client connected\n"
     ]
    },
    {
     "name": "stderr",
     "output_type": "stream",
     "text": [
      "INFO:werkzeug:127.0.0.1 - - [18/Nov/2024 06:20:38] \"GET /start HTTP/1.1\" 200 -\n",
      "E:\\AnacondaS\\lib\\site-packages\\google\\protobuf\\symbol_database.py:55: UserWarning: SymbolDatabase.GetPrototype() is deprecated. Please use message_factory.GetMessageClass() instead. SymbolDatabase.GetPrototype() will be removed soon.\n",
      "  warnings.warn('SymbolDatabase.GetPrototype() is deprecated. Please '\n",
      "E:\\AnacondaS\\lib\\site-packages\\google\\protobuf\\symbol_database.py:55: UserWarning: SymbolDatabase.GetPrototype() is deprecated. Please use message_factory.GetMessageClass() instead. SymbolDatabase.GetPrototype() will be removed soon.\n",
      "  warnings.warn('SymbolDatabase.GetPrototype() is deprecated. Please '\n"
     ]
    },
    {
     "name": "stdout",
     "output_type": "stream",
     "text": [
      "\u001b[1m2/2\u001b[0m \u001b[32m━━━━━━━━━━━━━━━━━━━━\u001b[0m\u001b[37m\u001b[0m \u001b[1m1s\u001b[0m 229ms/step\n"
     ]
    },
    {
     "name": "stderr",
     "output_type": "stream",
     "text": [
      "INFO:werkzeug:127.0.0.1 - - [18/Nov/2024 06:20:47] \"GET /stop HTTP/1.1\" 200 -\n"
     ]
    },
    {
     "name": "stdout",
     "output_type": "stream",
     "text": [
      "chora\n"
     ]
    },
    {
     "name": "stderr",
     "output_type": "stream",
     "text": [
      "INFO:werkzeug:127.0.0.1 - - [18/Nov/2024 06:20:58] \"GET /start HTTP/1.1\" 200 -\n",
      "E:\\AnacondaS\\lib\\site-packages\\google\\protobuf\\symbol_database.py:55: UserWarning: SymbolDatabase.GetPrototype() is deprecated. Please use message_factory.GetMessageClass() instead. SymbolDatabase.GetPrototype() will be removed soon.\n",
      "  warnings.warn('SymbolDatabase.GetPrototype() is deprecated. Please '\n"
     ]
    },
    {
     "name": "stdout",
     "output_type": "stream",
     "text": [
      "\u001b[1m1/1\u001b[0m \u001b[32m━━━━━━━━━━━━━━━━━━━━\u001b[0m\u001b[37m\u001b[0m \u001b[1m0s\u001b[0m 28ms/step\n"
     ]
    },
    {
     "name": "stderr",
     "output_type": "stream",
     "text": [
      "E:\\AnacondaS\\lib\\site-packages\\google\\protobuf\\symbol_database.py:55: UserWarning: SymbolDatabase.GetPrototype() is deprecated. Please use message_factory.GetMessageClass() instead. SymbolDatabase.GetPrototype() will be removed soon.\n",
      "  warnings.warn('SymbolDatabase.GetPrototype() is deprecated. Please '\n",
      "INFO:werkzeug:127.0.0.1 - - [18/Nov/2024 06:21:05] \"GET /stop HTTP/1.1\" 200 -\n"
     ]
    },
    {
     "name": "stdout",
     "output_type": "stream",
     "text": [
      "baba\n"
     ]
    },
    {
     "name": "stderr",
     "output_type": "stream",
     "text": [
      "INFO:werkzeug:127.0.0.1 - - [18/Nov/2024 06:23:26] \"GET /start HTTP/1.1\" 200 -\n",
      "E:\\AnacondaS\\lib\\site-packages\\google\\protobuf\\symbol_database.py:55: UserWarning: SymbolDatabase.GetPrototype() is deprecated. Please use message_factory.GetMessageClass() instead. SymbolDatabase.GetPrototype() will be removed soon.\n",
      "  warnings.warn('SymbolDatabase.GetPrototype() is deprecated. Please '\n"
     ]
    },
    {
     "name": "stdout",
     "output_type": "stream",
     "text": [
      "\u001b[1m4/4\u001b[0m \u001b[32m━━━━━━━━━━━━━━━━━━━━\u001b[0m\u001b[37m\u001b[0m \u001b[1m0s\u001b[0m 5ms/step \n"
     ]
    },
    {
     "name": "stderr",
     "output_type": "stream",
     "text": [
      "E:\\AnacondaS\\lib\\site-packages\\google\\protobuf\\symbol_database.py:55: UserWarning: SymbolDatabase.GetPrototype() is deprecated. Please use message_factory.GetMessageClass() instead. SymbolDatabase.GetPrototype() will be removed soon.\n",
      "  warnings.warn('SymbolDatabase.GetPrototype() is deprecated. Please '\n",
      "INFO:werkzeug:127.0.0.1 - - [18/Nov/2024 06:23:40] \"GET /stop HTTP/1.1\" 200 -\n"
     ]
    },
    {
     "name": "stdout",
     "output_type": "stream",
     "text": [
      "mama\n"
     ]
    },
    {
     "name": "stderr",
     "output_type": "stream",
     "text": [
      "INFO:werkzeug:127.0.0.1 - - [18/Nov/2024 06:24:53] \"GET /socket.io/?EIO=4&transport=websocket&sid=vSb1LX5idY0ts-UbAAAA HTTP/1.1\" 200 -\n"
     ]
    },
    {
     "name": "stdout",
     "output_type": "stream",
     "text": [
      "Client disconnected\n"
     ]
    },
    {
     "name": "stderr",
     "output_type": "stream",
     "text": [
      "INFO:werkzeug:127.0.0.1 - - [18/Nov/2024 06:24:53] \"GET /socket.io/?EIO=4&transport=polling&t=ato2ko6k HTTP/1.1\" 200 -\n",
      "INFO:werkzeug:127.0.0.1 - - [18/Nov/2024 06:24:53] \"POST /socket.io/?EIO=4&transport=polling&t=atobimhk&sid=NbOxpBXAcBN9UbqfAAAC HTTP/1.1\" 200 -\n",
      "INFO:werkzeug:127.0.0.1 - - [18/Nov/2024 06:24:54] \"GET /socket.io/?EIO=4&transport=polling&t=atobjsjg&sid=NbOxpBXAcBN9UbqfAAAC HTTP/1.1\" 200 -\n"
     ]
    },
    {
     "name": "stdout",
     "output_type": "stream",
     "text": [
      "Client connected\n"
     ]
    },
    {
     "name": "stderr",
     "output_type": "stream",
     "text": [
      "INFO:werkzeug:127.0.0.1 - - [18/Nov/2024 06:24:56] \"GET /socket.io/?EIO=4&transport=websocket&sid=NbOxpBXAcBN9UbqfAAAC HTTP/1.1\" 200 -\n",
      "INFO:werkzeug:127.0.0.1 - - [18/Nov/2024 06:24:56] \"GET /socket.io/?EIO=4&transport=polling&t=atqs2mp8 HTTP/1.1\" 200 -\n"
     ]
    },
    {
     "name": "stdout",
     "output_type": "stream",
     "text": [
      "Client disconnected\n"
     ]
    },
    {
     "name": "stderr",
     "output_type": "stream",
     "text": [
      "INFO:werkzeug:127.0.0.1 - - [18/Nov/2024 06:24:57] \"GET /socket.io/?EIO=4&transport=polling&t=atqyvzbn HTTP/1.1\" 200 -\n",
      "INFO:werkzeug:127.0.0.1 - - [18/Nov/2024 06:24:57] \"POST /socket.io/?EIO=4&transport=polling&t=atr0wvml&sid=vn7m2RnPYUVR9wRfAAAF HTTP/1.1\" 200 -\n"
     ]
    },
    {
     "name": "stdout",
     "output_type": "stream",
     "text": [
      "Client connected\n"
     ]
    },
    {
     "name": "stderr",
     "output_type": "stream",
     "text": [
      "INFO:werkzeug:127.0.0.1 - - [18/Nov/2024 06:24:57] \"GET /socket.io/?EIO=4&transport=polling&t=atr0w3wc&sid=vn7m2RnPYUVR9wRfAAAF HTTP/1.1\" 200 -\n",
      "INFO:werkzeug:127.0.0.1 - - [18/Nov/2024 06:24:57] \"GET /socket.io/?EIO=4&transport=polling&t=atr7wmuq&sid=vn7m2RnPYUVR9wRfAAAF HTTP/1.1\" 200 -\n",
      "INFO:werkzeug:127.0.0.1 - - [18/Nov/2024 06:24:57] \"GET /socket.io/?EIO=4&transport=websocket&sid=vn7m2RnPYUVR9wRfAAAF HTTP/1.1\" 200 -\n",
      "INFO:werkzeug:127.0.0.1 - - [18/Nov/2024 06:24:57] \"GET /socket.io/?EIO=4&transport=polling&t=atrg6gut HTTP/1.1\" 200 -\n"
     ]
    },
    {
     "name": "stdout",
     "output_type": "stream",
     "text": [
      "Client disconnected\n"
     ]
    },
    {
     "name": "stderr",
     "output_type": "stream",
     "text": [
      "INFO:werkzeug:127.0.0.1 - - [18/Nov/2024 06:24:58] \"POST /socket.io/?EIO=4&transport=polling&t=atrgh1wm&sid=PqhRz9dR0x0YdPLzAAAH HTTP/1.1\" 200 -\n",
      "INFO:werkzeug:127.0.0.1 - - [18/Nov/2024 06:24:58] \"GET /socket.io/?EIO=4&transport=polling&t=atrgh5fl&sid=PqhRz9dR0x0YdPLzAAAH HTTP/1.1\" 200 -\n",
      "INFO:werkzeug:127.0.0.1 - - [18/Nov/2024 06:24:58] \"GET /socket.io/?EIO=4&transport=polling&t=atrp48r2&sid=PqhRz9dR0x0YdPLzAAAH HTTP/1.1\" 200 -\n"
     ]
    },
    {
     "name": "stdout",
     "output_type": "stream",
     "text": [
      "Client connected\n"
     ]
    },
    {
     "name": "stderr",
     "output_type": "stream",
     "text": [
      "INFO:werkzeug:127.0.0.1 - - [18/Nov/2024 06:24:58] \"GET /start HTTP/1.1\" 200 -\n",
      "E:\\AnacondaS\\lib\\site-packages\\google\\protobuf\\symbol_database.py:55: UserWarning: SymbolDatabase.GetPrototype() is deprecated. Please use message_factory.GetMessageClass() instead. SymbolDatabase.GetPrototype() will be removed soon.\n",
      "  warnings.warn('SymbolDatabase.GetPrototype() is deprecated. Please '\n"
     ]
    },
    {
     "name": "stdout",
     "output_type": "stream",
     "text": [
      "\u001b[1m6/6\u001b[0m \u001b[32m━━━━━━━━━━━━━━━━━━━━\u001b[0m\u001b[37m\u001b[0m \u001b[1m0s\u001b[0m 4ms/step \n"
     ]
    },
    {
     "name": "stderr",
     "output_type": "stream",
     "text": [
      "E:\\AnacondaS\\lib\\site-packages\\google\\protobuf\\symbol_database.py:55: UserWarning: SymbolDatabase.GetPrototype() is deprecated. Please use message_factory.GetMessageClass() instead. SymbolDatabase.GetPrototype() will be removed soon.\n",
      "  warnings.warn('SymbolDatabase.GetPrototype() is deprecated. Please '\n",
      "INFO:werkzeug:127.0.0.1 - - [18/Nov/2024 06:25:20] \"GET /stop HTTP/1.1\" 200 -\n"
     ]
    },
    {
     "name": "stdout",
     "output_type": "stream",
     "text": [
      "chora\n"
     ]
    },
    {
     "name": "stderr",
     "output_type": "stream",
     "text": [
      "INFO:werkzeug:127.0.0.1 - - [18/Nov/2024 06:27:15] \"GET /socket.io/?EIO=4&transport=websocket&sid=PqhRz9dR0x0YdPLzAAAH HTTP/1.1\" 200 -\n"
     ]
    },
    {
     "name": "stdout",
     "output_type": "stream",
     "text": [
      "Client disconnected\n"
     ]
    },
    {
     "name": "stderr",
     "output_type": "stream",
     "text": [
      "INFO:werkzeug:127.0.0.1 - - [18/Nov/2024 06:27:16] \"GET /socket.io/?EIO=4&transport=polling&t=awqjqiec HTTP/1.1\" 200 -\n",
      "INFO:werkzeug:127.0.0.1 - - [18/Nov/2024 06:27:17] \"POST /socket.io/?EIO=4&transport=polling&t=awqsicfa&sid=RT0AfJndzBJJsbdHAAAJ HTTP/1.1\" 200 -\n",
      "INFO:werkzeug:127.0.0.1 - - [18/Nov/2024 06:27:17] \"GET /socket.io/?EIO=4&transport=polling&t=awqsj5oq&sid=RT0AfJndzBJJsbdHAAAJ HTTP/1.1\" 200 -\n"
     ]
    },
    {
     "name": "stdout",
     "output_type": "stream",
     "text": [
      "Client connected\n"
     ]
    },
    {
     "name": "stderr",
     "output_type": "stream",
     "text": [
      "INFO:werkzeug:127.0.0.1 - - [18/Nov/2024 06:27:17] \"GET /socket.io/?EIO=4&transport=websocket&sid=RT0AfJndzBJJsbdHAAAJ HTTP/1.1\" 200 -\n",
      "INFO:werkzeug:127.0.0.1 - - [18/Nov/2024 06:27:17] \"GET /socket.io/?EIO=4&transport=polling&t=awr98zze HTTP/1.1\" 200 -\n"
     ]
    },
    {
     "name": "stdout",
     "output_type": "stream",
     "text": [
      "Client disconnected\n"
     ]
    },
    {
     "name": "stderr",
     "output_type": "stream",
     "text": [
      "INFO:werkzeug:127.0.0.1 - - [18/Nov/2024 06:27:17] \"POST /socket.io/?EIO=4&transport=polling&t=awr9f810&sid=pk49Nas6x9LYMG62AAAL HTTP/1.1\" 200 -\n",
      "INFO:werkzeug:127.0.0.1 - - [18/Nov/2024 06:27:17] \"GET /socket.io/?EIO=4&transport=polling&t=awr9g7xo&sid=pk49Nas6x9LYMG62AAAL HTTP/1.1\" 200 -\n"
     ]
    },
    {
     "name": "stdout",
     "output_type": "stream",
     "text": [
      "Client connected\n"
     ]
    },
    {
     "name": "stderr",
     "output_type": "stream",
     "text": [
      "INFO:werkzeug:127.0.0.1 - - [18/Nov/2024 06:27:18] \"GET /start HTTP/1.1\" 200 -\n",
      "E:\\AnacondaS\\lib\\site-packages\\google\\protobuf\\symbol_database.py:55: UserWarning: SymbolDatabase.GetPrototype() is deprecated. Please use message_factory.GetMessageClass() instead. SymbolDatabase.GetPrototype() will be removed soon.\n",
      "  warnings.warn('SymbolDatabase.GetPrototype() is deprecated. Please '\n"
     ]
    },
    {
     "name": "stdout",
     "output_type": "stream",
     "text": [
      "\u001b[1m4/4\u001b[0m \u001b[32m━━━━━━━━━━━━━━━━━━━━\u001b[0m\u001b[37m\u001b[0m \u001b[1m0s\u001b[0m 6ms/step \n"
     ]
    },
    {
     "name": "stderr",
     "output_type": "stream",
     "text": [
      "INFO:werkzeug:127.0.0.1 - - [18/Nov/2024 06:27:34] \"GET /stop HTTP/1.1\" 200 -\n"
     ]
    },
    {
     "name": "stdout",
     "output_type": "stream",
     "text": [
      "bhadra\n"
     ]
    },
    {
     "name": "stderr",
     "output_type": "stream",
     "text": [
      "INFO:werkzeug:127.0.0.1 - - [18/Nov/2024 06:28:20] \"GET /start HTTP/1.1\" 200 -\n",
      "E:\\AnacondaS\\lib\\site-packages\\google\\protobuf\\symbol_database.py:55: UserWarning: SymbolDatabase.GetPrototype() is deprecated. Please use message_factory.GetMessageClass() instead. SymbolDatabase.GetPrototype() will be removed soon.\n",
      "  warnings.warn('SymbolDatabase.GetPrototype() is deprecated. Please '\n"
     ]
    },
    {
     "name": "stdout",
     "output_type": "stream",
     "text": [
      "\u001b[1m5/5\u001b[0m \u001b[32m━━━━━━━━━━━━━━━━━━━━\u001b[0m\u001b[37m\u001b[0m \u001b[1m0s\u001b[0m 6ms/step \n"
     ]
    },
    {
     "name": "stderr",
     "output_type": "stream",
     "text": [
      "E:\\AnacondaS\\lib\\site-packages\\google\\protobuf\\symbol_database.py:55: UserWarning: SymbolDatabase.GetPrototype() is deprecated. Please use message_factory.GetMessageClass() instead. SymbolDatabase.GetPrototype() will be removed soon.\n",
      "  warnings.warn('SymbolDatabase.GetPrototype() is deprecated. Please '\n",
      "INFO:werkzeug:127.0.0.1 - - [18/Nov/2024 06:28:36] \"GET /stop HTTP/1.1\" 200 -\n"
     ]
    },
    {
     "name": "stdout",
     "output_type": "stream",
     "text": [
      "bhadra\n"
     ]
    },
    {
     "name": "stderr",
     "output_type": "stream",
     "text": [
      "INFO:werkzeug:127.0.0.1 - - [18/Nov/2024 06:28:37] \"GET /start HTTP/1.1\" 200 -\n",
      "E:\\AnacondaS\\lib\\site-packages\\google\\protobuf\\symbol_database.py:55: UserWarning: SymbolDatabase.GetPrototype() is deprecated. Please use message_factory.GetMessageClass() instead. SymbolDatabase.GetPrototype() will be removed soon.\n",
      "  warnings.warn('SymbolDatabase.GetPrototype() is deprecated. Please '\n"
     ]
    },
    {
     "name": "stdout",
     "output_type": "stream",
     "text": [
      "\u001b[1m8/8\u001b[0m \u001b[32m━━━━━━━━━━━━━━━━━━━━\u001b[0m\u001b[37m\u001b[0m \u001b[1m0s\u001b[0m 5ms/step \n"
     ]
    },
    {
     "name": "stderr",
     "output_type": "stream",
     "text": [
      "INFO:werkzeug:127.0.0.1 - - [18/Nov/2024 06:29:00] \"GET /stop HTTP/1.1\" 200 -\n"
     ]
    },
    {
     "name": "stdout",
     "output_type": "stream",
     "text": [
      "chora\n"
     ]
    },
    {
     "name": "stderr",
     "output_type": "stream",
     "text": [
      "INFO:werkzeug:127.0.0.1 - - [18/Nov/2024 06:30:34] \"GET /socket.io/?EIO=4&transport=websocket&sid=pk49Nas6x9LYMG62AAAL HTTP/1.1\" 200 -\n"
     ]
    },
    {
     "name": "stdout",
     "output_type": "stream",
     "text": [
      "Client disconnected\n"
     ]
    },
    {
     "name": "stderr",
     "output_type": "stream",
     "text": [
      "INFO:werkzeug:127.0.0.1 - - [18/Nov/2024 06:30:56] \"GET /socket.io/?EIO=4&transport=polling&t=b1g6nlrh HTTP/1.1\" 200 -\n",
      "INFO:werkzeug:127.0.0.1 - - [18/Nov/2024 06:30:56] \"POST /socket.io/?EIO=4&transport=polling&t=b1gfkdbl&sid=A_n-M4QlWFI8-pRXAAAN HTTP/1.1\" 200 -\n",
      "INFO:werkzeug:127.0.0.1 - - [18/Nov/2024 06:30:57] \"GET /socket.io/?EIO=4&transport=polling&t=b1gfmx9g&sid=A_n-M4QlWFI8-pRXAAAN HTTP/1.1\" 200 -\n",
      "INFO:werkzeug:127.0.0.1 - - [18/Nov/2024 06:30:57] \"GET /socket.io/?EIO=4&transport=polling&t=b1gokr1q&sid=A_n-M4QlWFI8-pRXAAAN HTTP/1.1\" 200 -\n"
     ]
    },
    {
     "name": "stdout",
     "output_type": "stream",
     "text": [
      "Client connected\n"
     ]
    },
    {
     "name": "stderr",
     "output_type": "stream",
     "text": [
      "INFO:werkzeug:127.0.0.1 - - [18/Nov/2024 06:30:58] \"GET /socket.io/?EIO=4&transport=websocket&sid=A_n-M4QlWFI8-pRXAAAN HTTP/1.1\" 200 -\n"
     ]
    },
    {
     "name": "stdout",
     "output_type": "stream",
     "text": [
      "Client disconnected\n"
     ]
    },
    {
     "name": "stderr",
     "output_type": "stream",
     "text": [
      "INFO:werkzeug:127.0.0.1 - - [18/Nov/2024 06:30:58] \"GET /socket.io/?EIO=4&transport=polling&t=b1hsojth HTTP/1.1\" 200 -\n",
      "INFO:werkzeug:127.0.0.1 - - [18/Nov/2024 06:30:58] \"POST /socket.io/?EIO=4&transport=polling&t=b1hw62zm&sid=VfMZ7Q7HyF4e8fleAAAP HTTP/1.1\" 200 -\n",
      "INFO:werkzeug:127.0.0.1 - - [18/Nov/2024 06:30:58] \"GET /socket.io/?EIO=4&transport=polling&t=b1hw72wi&sid=VfMZ7Q7HyF4e8fleAAAP HTTP/1.1\" 200 -\n"
     ]
    },
    {
     "name": "stdout",
     "output_type": "stream",
     "text": [
      "Client connected\n"
     ]
    },
    {
     "name": "stderr",
     "output_type": "stream",
     "text": [
      "INFO:werkzeug:127.0.0.1 - - [18/Nov/2024 06:32:20] \"GET /socket.io/?EIO=4&transport=websocket&sid=VfMZ7Q7HyF4e8fleAAAP HTTP/1.1\" 200 -\n"
     ]
    },
    {
     "name": "stdout",
     "output_type": "stream",
     "text": [
      "Client disconnected\n"
     ]
    },
    {
     "name": "stderr",
     "output_type": "stream",
     "text": [
      "INFO:werkzeug:127.0.0.1 - - [18/Nov/2024 06:32:20] \"GET /socket.io/?EIO=4&transport=polling&t=b38zp13t HTTP/1.1\" 200 -\n",
      "INFO:werkzeug:127.0.0.1 - - [18/Nov/2024 06:32:20] \"POST /socket.io/?EIO=4&transport=polling&t=b398pael&sid=HfPjkOPnKdTq_FvUAAAR HTTP/1.1\" 200 -\n",
      "INFO:werkzeug:127.0.0.1 - - [18/Nov/2024 06:32:21] \"GET /socket.io/?EIO=4&transport=polling&t=b398qs74&sid=HfPjkOPnKdTq_FvUAAAR HTTP/1.1\" 200 -\n"
     ]
    },
    {
     "name": "stdout",
     "output_type": "stream",
     "text": [
      "Client connected\n"
     ]
    },
    {
     "name": "stderr",
     "output_type": "stream",
     "text": [
      "INFO:werkzeug:127.0.0.1 - - [18/Nov/2024 06:32:21] \"GET /socket.io/?EIO=4&transport=websocket&sid=HfPjkOPnKdTq_FvUAAAR HTTP/1.1\" 200 -\n",
      "INFO:werkzeug:127.0.0.1 - - [18/Nov/2024 06:32:21] \"GET /socket.io/?EIO=4&transport=polling&t=b39r0vc8 HTTP/1.1\" 200 -\n"
     ]
    },
    {
     "name": "stdout",
     "output_type": "stream",
     "text": [
      "Client disconnected\n"
     ]
    },
    {
     "name": "stderr",
     "output_type": "stream",
     "text": [
      "INFO:werkzeug:127.0.0.1 - - [18/Nov/2024 06:32:21] \"POST /socket.io/?EIO=4&transport=polling&t=b39r7t1i&sid=Wp7fGjBgSNkgjKt_AAAT HTTP/1.1\" 200 -\n",
      "INFO:werkzeug:127.0.0.1 - - [18/Nov/2024 06:32:21] \"GET /socket.io/?EIO=4&transport=polling&t=b39r8b1z&sid=Wp7fGjBgSNkgjKt_AAAT HTTP/1.1\" 200 -\n"
     ]
    },
    {
     "name": "stdout",
     "output_type": "stream",
     "text": [
      "Client connected\n"
     ]
    },
    {
     "name": "stderr",
     "output_type": "stream",
     "text": [
      "INFO:werkzeug:127.0.0.1 - - [18/Nov/2024 06:32:22] \"GET /socket.io/?EIO=4&transport=websocket&sid=Wp7fGjBgSNkgjKt_AAAT HTTP/1.1\" 200 -\n"
     ]
    },
    {
     "name": "stdout",
     "output_type": "stream",
     "text": [
      "Client disconnected\n"
     ]
    },
    {
     "name": "stderr",
     "output_type": "stream",
     "text": [
      "INFO:werkzeug:127.0.0.1 - - [18/Nov/2024 06:32:43] \"GET /socket.io/?EIO=4&transport=polling&t=b3quveol HTTP/1.1\" 200 -\n",
      "INFO:werkzeug:127.0.0.1 - - [18/Nov/2024 06:32:43] \"POST /socket.io/?EIO=4&transport=polling&t=b3qv32yh&sid=H02odfcDqqeWa63AAAAV HTTP/1.1\" 200 -\n",
      "INFO:werkzeug:127.0.0.1 - - [18/Nov/2024 06:32:43] \"GET /socket.io/?EIO=4&transport=polling&t=b3qv4d2x&sid=H02odfcDqqeWa63AAAAV HTTP/1.1\" 200 -\n"
     ]
    },
    {
     "name": "stdout",
     "output_type": "stream",
     "text": [
      "Client connected\n"
     ]
    },
    {
     "name": "stderr",
     "output_type": "stream",
     "text": [
      "INFO:werkzeug:127.0.0.1 - - [18/Nov/2024 06:32:49] \"GET /socket.io/?EIO=4&transport=websocket&sid=H02odfcDqqeWa63AAAAV HTTP/1.1\" 200 -\n",
      "INFO:werkzeug:127.0.0.1 - - [18/Nov/2024 06:32:49] \"GET /socket.io/?EIO=4&transport=polling&t=b3vda54m HTTP/1.1\" 200 -\n"
     ]
    },
    {
     "name": "stdout",
     "output_type": "stream",
     "text": [
      "Client disconnected\n"
     ]
    },
    {
     "name": "stderr",
     "output_type": "stream",
     "text": [
      "INFO:werkzeug:127.0.0.1 - - [18/Nov/2024 06:32:49] \"POST /socket.io/?EIO=4&transport=polling&t=b3vdpjfa&sid=OVQ0BqTxbQ9hUYOgAAAX HTTP/1.1\" 200 -\n",
      "INFO:werkzeug:127.0.0.1 - - [18/Nov/2024 06:32:49] \"GET /socket.io/?EIO=4&transport=polling&t=b3vdq3q1&sid=OVQ0BqTxbQ9hUYOgAAAX HTTP/1.1\" 200 -\n"
     ]
    },
    {
     "name": "stdout",
     "output_type": "stream",
     "text": [
      "Client connected\n"
     ]
    },
    {
     "name": "stderr",
     "output_type": "stream",
     "text": [
      "INFO:werkzeug:127.0.0.1 - - [18/Nov/2024 06:32:54] \"GET /start HTTP/1.1\" 200 -\n",
      "E:\\AnacondaS\\lib\\site-packages\\google\\protobuf\\symbol_database.py:55: UserWarning: SymbolDatabase.GetPrototype() is deprecated. Please use message_factory.GetMessageClass() instead. SymbolDatabase.GetPrototype() will be removed soon.\n",
      "  warnings.warn('SymbolDatabase.GetPrototype() is deprecated. Please '\n"
     ]
    },
    {
     "name": "stdout",
     "output_type": "stream",
     "text": [
      "\u001b[1m6/6\u001b[0m \u001b[32m━━━━━━━━━━━━━━━━━━━━\u001b[0m\u001b[37m\u001b[0m \u001b[1m0s\u001b[0m 4ms/step \n"
     ]
    },
    {
     "name": "stderr",
     "output_type": "stream",
     "text": [
      "INFO:werkzeug:127.0.0.1 - - [18/Nov/2024 06:33:18] \"GET /stop HTTP/1.1\" 200 -\n"
     ]
    },
    {
     "name": "stdout",
     "output_type": "stream",
     "text": [
      "chora\n"
     ]
    },
    {
     "name": "stderr",
     "output_type": "stream",
     "text": [
      "INFO:werkzeug:127.0.0.1 - - [18/Nov/2024 06:33:58] \"GET /socket.io/?EIO=4&transport=websocket&sid=OVQ0BqTxbQ9hUYOgAAAX HTTP/1.1\" 200 -\n"
     ]
    },
    {
     "name": "stdout",
     "output_type": "stream",
     "text": [
      "Client disconnected\n"
     ]
    },
    {
     "name": "stderr",
     "output_type": "stream",
     "text": [
      "INFO:werkzeug:127.0.0.1 - - [18/Nov/2024 06:36:12] \"GET /socket.io/?EIO=4&transport=polling&t=b87lbdo3 HTTP/1.1\" 200 -\n",
      "INFO:werkzeug:127.0.0.1 - - [18/Nov/2024 06:36:12] \"POST /socket.io/?EIO=4&transport=polling&t=b87u1p6y&sid=zHRlmYFeGiogJb3CAAAZ HTTP/1.1\" 200 -\n",
      "INFO:werkzeug:127.0.0.1 - - [18/Nov/2024 06:36:12] \"GET /socket.io/?EIO=4&transport=polling&t=b87u2e7x&sid=zHRlmYFeGiogJb3CAAAZ HTTP/1.1\" 200 -\n"
     ]
    },
    {
     "name": "stdout",
     "output_type": "stream",
     "text": [
      "Client connected\n"
     ]
    },
    {
     "name": "stderr",
     "output_type": "stream",
     "text": [
      "INFO:werkzeug:127.0.0.1 - - [18/Nov/2024 06:36:14] \"GET /start HTTP/1.1\" 200 -\n",
      "E:\\AnacondaS\\lib\\site-packages\\google\\protobuf\\symbol_database.py:55: UserWarning: SymbolDatabase.GetPrototype() is deprecated. Please use message_factory.GetMessageClass() instead. SymbolDatabase.GetPrototype() will be removed soon.\n",
      "  warnings.warn('SymbolDatabase.GetPrototype() is deprecated. Please '\n"
     ]
    },
    {
     "name": "stdout",
     "output_type": "stream",
     "text": [
      "\u001b[1m4/4\u001b[0m \u001b[32m━━━━━━━━━━━━━━━━━━━━\u001b[0m\u001b[37m\u001b[0m \u001b[1m0s\u001b[0m 6ms/step \n"
     ]
    },
    {
     "name": "stderr",
     "output_type": "stream",
     "text": [
      "INFO:werkzeug:127.0.0.1 - - [18/Nov/2024 06:36:32] \"GET /stop HTTP/1.1\" 200 -\n"
     ]
    },
    {
     "name": "stdout",
     "output_type": "stream",
     "text": [
      "chora\n"
     ]
    },
    {
     "name": "stderr",
     "output_type": "stream",
     "text": [
      "INFO:werkzeug:127.0.0.1 - - [18/Nov/2024 06:38:03] \"GET /start HTTP/1.1\" 200 -\n",
      "E:\\AnacondaS\\lib\\site-packages\\google\\protobuf\\symbol_database.py:55: UserWarning: SymbolDatabase.GetPrototype() is deprecated. Please use message_factory.GetMessageClass() instead. SymbolDatabase.GetPrototype() will be removed soon.\n",
      "  warnings.warn('SymbolDatabase.GetPrototype() is deprecated. Please '\n"
     ]
    },
    {
     "name": "stdout",
     "output_type": "stream",
     "text": [
      "\u001b[1m4/4\u001b[0m \u001b[32m━━━━━━━━━━━━━━━━━━━━\u001b[0m\u001b[37m\u001b[0m \u001b[1m0s\u001b[0m 6ms/step \n"
     ]
    },
    {
     "name": "stderr",
     "output_type": "stream",
     "text": [
      "E:\\AnacondaS\\lib\\site-packages\\google\\protobuf\\symbol_database.py:55: UserWarning: SymbolDatabase.GetPrototype() is deprecated. Please use message_factory.GetMessageClass() instead. SymbolDatabase.GetPrototype() will be removed soon.\n",
      "  warnings.warn('SymbolDatabase.GetPrototype() is deprecated. Please '\n",
      "INFO:werkzeug:127.0.0.1 - - [18/Nov/2024 06:38:16] \"GET /stop HTTP/1.1\" 200 -\n"
     ]
    },
    {
     "name": "stdout",
     "output_type": "stream",
     "text": [
      "bhadra\n"
     ]
    },
    {
     "name": "stderr",
     "output_type": "stream",
     "text": [
      "INFO:werkzeug:127.0.0.1 - - [18/Nov/2024 06:39:09] \"GET /start HTTP/1.1\" 200 -\n",
      "E:\\AnacondaS\\lib\\site-packages\\google\\protobuf\\symbol_database.py:55: UserWarning: SymbolDatabase.GetPrototype() is deprecated. Please use message_factory.GetMessageClass() instead. SymbolDatabase.GetPrototype() will be removed soon.\n",
      "  warnings.warn('SymbolDatabase.GetPrototype() is deprecated. Please '\n"
     ]
    },
    {
     "name": "stdout",
     "output_type": "stream",
     "text": [
      "\u001b[1m2/2\u001b[0m \u001b[32m━━━━━━━━━━━━━━━━━━━━\u001b[0m\u001b[37m\u001b[0m \u001b[1m0s\u001b[0m 6ms/step \n"
     ]
    },
    {
     "name": "stderr",
     "output_type": "stream",
     "text": [
      "E:\\AnacondaS\\lib\\site-packages\\google\\protobuf\\symbol_database.py:55: UserWarning: SymbolDatabase.GetPrototype() is deprecated. Please use message_factory.GetMessageClass() instead. SymbolDatabase.GetPrototype() will be removed soon.\n",
      "  warnings.warn('SymbolDatabase.GetPrototype() is deprecated. Please '\n",
      "INFO:werkzeug:127.0.0.1 - - [18/Nov/2024 06:39:17] \"GET /stop HTTP/1.1\" 200 -\n"
     ]
    },
    {
     "name": "stdout",
     "output_type": "stream",
     "text": [
      "chora\n"
     ]
    },
    {
     "name": "stderr",
     "output_type": "stream",
     "text": [
      "INFO:werkzeug:127.0.0.1 - - [18/Nov/2024 06:39:48] \"GET /socket.io/?EIO=4&transport=websocket&sid=zHRlmYFeGiogJb3CAAAZ HTTP/1.1\" 200 -\n"
     ]
    },
    {
     "name": "stdout",
     "output_type": "stream",
     "text": [
      "Client disconnected\n"
     ]
    },
    {
     "name": "stderr",
     "output_type": "stream",
     "text": [
      "INFO:werkzeug:127.0.0.1 - - [18/Nov/2024 06:39:49] \"GET /socket.io/?EIO=4&transport=polling&t=bcve40m7 HTTP/1.1\" 200 -\n",
      "INFO:werkzeug:127.0.0.1 - - [18/Nov/2024 06:39:49] \"POST /socket.io/?EIO=4&transport=polling&t=bcvebzcl&sid=c3RIy9RIhh66rZKpAAAb HTTP/1.1\" 200 -\n",
      "INFO:werkzeug:127.0.0.1 - - [18/Nov/2024 06:39:49] \"GET /socket.io/?EIO=4&transport=polling&t=bcveclei&sid=c3RIy9RIhh66rZKpAAAb HTTP/1.1\" 200 -\n"
     ]
    },
    {
     "name": "stdout",
     "output_type": "stream",
     "text": [
      "Client connected\n"
     ]
    },
    {
     "name": "stderr",
     "output_type": "stream",
     "text": [
      "INFO:werkzeug:127.0.0.1 - - [18/Nov/2024 06:39:50] \"GET /socket.io/?EIO=4&transport=websocket&sid=c3RIy9RIhh66rZKpAAAb HTTP/1.1\" 200 -\n",
      "INFO:werkzeug:127.0.0.1 - - [18/Nov/2024 06:39:50] \"GET /socket.io/?EIO=4&transport=polling&t=bcwc246s HTTP/1.1\" 200 -\n"
     ]
    },
    {
     "name": "stdout",
     "output_type": "stream",
     "text": [
      "Client disconnected\n"
     ]
    },
    {
     "name": "stderr",
     "output_type": "stream",
     "text": [
      "INFO:werkzeug:127.0.0.1 - - [18/Nov/2024 06:39:50] \"POST /socket.io/?EIO=4&transport=polling&t=bcwca1r3&sid=ZecJN2Y-W6aIBX5pAAAd HTTP/1.1\" 200 -\n",
      "INFO:werkzeug:127.0.0.1 - - [18/Nov/2024 06:39:50] \"GET /socket.io/?EIO=4&transport=polling&t=bcwcbcbl&sid=ZecJN2Y-W6aIBX5pAAAd HTTP/1.1\" 200 -\n"
     ]
    },
    {
     "name": "stdout",
     "output_type": "stream",
     "text": [
      "Client connected\n"
     ]
    },
    {
     "name": "stderr",
     "output_type": "stream",
     "text": [
      "INFO:werkzeug:127.0.0.1 - - [18/Nov/2024 06:39:51] \"GET /start HTTP/1.1\" 200 -\n",
      "E:\\AnacondaS\\lib\\site-packages\\google\\protobuf\\symbol_database.py:55: UserWarning: SymbolDatabase.GetPrototype() is deprecated. Please use message_factory.GetMessageClass() instead. SymbolDatabase.GetPrototype() will be removed soon.\n",
      "  warnings.warn('SymbolDatabase.GetPrototype() is deprecated. Please '\n"
     ]
    },
    {
     "name": "stdout",
     "output_type": "stream",
     "text": [
      "\u001b[1m2/2\u001b[0m \u001b[32m━━━━━━━━━━━━━━━━━━━━\u001b[0m\u001b[37m\u001b[0m \u001b[1m0s\u001b[0m 5ms/step \n"
     ]
    },
    {
     "name": "stderr",
     "output_type": "stream",
     "text": [
      "E:\\AnacondaS\\lib\\site-packages\\google\\protobuf\\symbol_database.py:55: UserWarning: SymbolDatabase.GetPrototype() is deprecated. Please use message_factory.GetMessageClass() instead. SymbolDatabase.GetPrototype() will be removed soon.\n",
      "  warnings.warn('SymbolDatabase.GetPrototype() is deprecated. Please '\n",
      "INFO:werkzeug:127.0.0.1 - - [18/Nov/2024 06:40:01] \"GET /stop HTTP/1.1\" 200 -\n"
     ]
    },
    {
     "name": "stdout",
     "output_type": "stream",
     "text": [
      "bhadra\n"
     ]
    },
    {
     "name": "stderr",
     "output_type": "stream",
     "text": [
      "INFO:werkzeug:127.0.0.1 - - [18/Nov/2024 06:41:57] \"GET /socket.io/?EIO=4&transport=websocket&sid=ZecJN2Y-W6aIBX5pAAAd HTTP/1.1\" 200 -\n"
     ]
    },
    {
     "name": "stdout",
     "output_type": "stream",
     "text": [
      "Client disconnected\n"
     ]
    },
    {
     "name": "stderr",
     "output_type": "stream",
     "text": [
      "INFO:werkzeug:127.0.0.1 - - [18/Nov/2024 06:41:57] \"GET /socket.io/?EIO=4&transport=polling&t=bfm7ptst HTTP/1.1\" 200 -\n",
      "INFO:werkzeug:127.0.0.1 - - [18/Nov/2024 06:41:57] \"POST /socket.io/?EIO=4&transport=polling&t=bfmgelvq&sid=3SYpcm1k7Up724xCAAAf HTTP/1.1\" 200 -\n",
      "INFO:werkzeug:127.0.0.1 - - [18/Nov/2024 06:41:58] \"GET /socket.io/?EIO=4&transport=polling&t=bfmgfagb&sid=3SYpcm1k7Up724xCAAAf HTTP/1.1\" 200 -\n",
      "INFO:werkzeug:127.0.0.1 - - [18/Nov/2024 06:41:58] \"GET /socket.io/?EIO=4&transport=polling&t=bfmpe34s&sid=3SYpcm1k7Up724xCAAAf HTTP/1.1\" 200 -\n"
     ]
    },
    {
     "name": "stdout",
     "output_type": "stream",
     "text": [
      "Client connected\n"
     ]
    },
    {
     "name": "stderr",
     "output_type": "stream",
     "text": [
      "INFO:werkzeug:127.0.0.1 - - [18/Nov/2024 06:41:58] \"GET /socket.io/?EIO=4&transport=websocket&sid=3SYpcm1k7Up724xCAAAf HTTP/1.1\" 200 -\n"
     ]
    },
    {
     "name": "stdout",
     "output_type": "stream",
     "text": [
      "Client disconnected\n"
     ]
    },
    {
     "name": "stderr",
     "output_type": "stream",
     "text": [
      "INFO:werkzeug:127.0.0.1 - - [18/Nov/2024 06:41:58] \"GET /socket.io/?EIO=4&transport=polling&t=bfmyvknq HTTP/1.1\" 200 -\n",
      "INFO:werkzeug:127.0.0.1 - - [18/Nov/2024 06:41:58] \"POST /socket.io/?EIO=4&transport=polling&t=bfn7e3ss&sid=-ZG_6_PyjYOw2Fv8AAAh HTTP/1.1\" 200 -\n",
      "INFO:werkzeug:127.0.0.1 - - [18/Nov/2024 06:41:58] \"GET /socket.io/?EIO=4&transport=polling&t=bfn7fjm7&sid=-ZG_6_PyjYOw2Fv8AAAh HTTP/1.1\" 200 -\n"
     ]
    },
    {
     "name": "stdout",
     "output_type": "stream",
     "text": [
      "Client connected\n"
     ]
    },
    {
     "name": "stderr",
     "output_type": "stream",
     "text": [
      "INFO:werkzeug:127.0.0.1 - - [18/Nov/2024 06:42:00] \"GET /socket.io/?EIO=4&transport=websocket&sid=-ZG_6_PyjYOw2Fv8AAAh HTTP/1.1\" 200 -\n",
      "INFO:werkzeug:127.0.0.1 - - [18/Nov/2024 06:42:00] \"GET /socket.io/?EIO=4&transport=polling&t=bfol8f5w HTTP/1.1\" 200 -\n"
     ]
    },
    {
     "name": "stdout",
     "output_type": "stream",
     "text": [
      "Client disconnected\n"
     ]
    },
    {
     "name": "stderr",
     "output_type": "stream",
     "text": [
      "INFO:werkzeug:127.0.0.1 - - [18/Nov/2024 06:42:00] \"POST /socket.io/?EIO=4&transport=polling&t=bfolgd56&sid=0YfageNqnmmmjfMiAAAj HTTP/1.1\" 200 -\n",
      "INFO:werkzeug:127.0.0.1 - - [18/Nov/2024 06:42:00] \"GET /socket.io/?EIO=4&transport=polling&t=bfolgeny&sid=0YfageNqnmmmjfMiAAAj HTTP/1.1\" 200 -\n"
     ]
    },
    {
     "name": "stdout",
     "output_type": "stream",
     "text": [
      "Client connected\n"
     ]
    },
    {
     "name": "stderr",
     "output_type": "stream",
     "text": [
      "INFO:werkzeug:127.0.0.1 - - [18/Nov/2024 06:42:01] \"GET /socket.io/?EIO=4&transport=websocket&sid=0YfageNqnmmmjfMiAAAj HTTP/1.1\" 200 -\n",
      "INFO:werkzeug:127.0.0.1 - - [18/Nov/2024 06:42:01] \"GET /socket.io/?EIO=4&transport=polling&t=bfp53le9 HTTP/1.1\" 200 -\n"
     ]
    },
    {
     "name": "stdout",
     "output_type": "stream",
     "text": [
      "Client disconnected\n"
     ]
    },
    {
     "name": "stderr",
     "output_type": "stream",
     "text": [
      "INFO:werkzeug:127.0.0.1 - - [18/Nov/2024 06:42:01] \"POST /socket.io/?EIO=4&transport=polling&t=bfp58cv8&sid=aFClhJJ9F_JQE0ikAAAl HTTP/1.1\" 200 -\n",
      "INFO:werkzeug:127.0.0.1 - - [18/Nov/2024 06:42:01] \"GET /socket.io/?EIO=4&transport=polling&t=bfp59ufx&sid=aFClhJJ9F_JQE0ikAAAl HTTP/1.1\" 200 -\n"
     ]
    },
    {
     "name": "stdout",
     "output_type": "stream",
     "text": [
      "Client connected\n"
     ]
    },
    {
     "name": "stderr",
     "output_type": "stream",
     "text": [
      "INFO:werkzeug:127.0.0.1 - - [18/Nov/2024 06:44:03] \"GET /start HTTP/1.1\" 200 -\n",
      "E:\\AnacondaS\\lib\\site-packages\\google\\protobuf\\symbol_database.py:55: UserWarning: SymbolDatabase.GetPrototype() is deprecated. Please use message_factory.GetMessageClass() instead. SymbolDatabase.GetPrototype() will be removed soon.\n",
      "  warnings.warn('SymbolDatabase.GetPrototype() is deprecated. Please '\n"
     ]
    },
    {
     "name": "stdout",
     "output_type": "stream",
     "text": [
      "\u001b[1m1/1\u001b[0m \u001b[32m━━━━━━━━━━━━━━━━━━━━\u001b[0m\u001b[37m\u001b[0m \u001b[1m0s\u001b[0m 31ms/step\n"
     ]
    },
    {
     "name": "stderr",
     "output_type": "stream",
     "text": [
      "INFO:werkzeug:127.0.0.1 - - [18/Nov/2024 06:44:09] \"GET /stop HTTP/1.1\" 200 -\n"
     ]
    },
    {
     "name": "stdout",
     "output_type": "stream",
     "text": [
      "chora\n"
     ]
    },
    {
     "name": "stderr",
     "output_type": "stream",
     "text": [
      "INFO:werkzeug:127.0.0.1 - - [18/Nov/2024 06:46:26] \"GET /socket.io/?EIO=4&transport=websocket&sid=aFClhJJ9F_JQE0ikAAAl HTTP/1.1\" 200 -\n"
     ]
    },
    {
     "name": "stdout",
     "output_type": "stream",
     "text": [
      "Client disconnected\n"
     ]
    },
    {
     "name": "stderr",
     "output_type": "stream",
     "text": [
      "INFO:werkzeug:127.0.0.1 - - [18/Nov/2024 06:46:36] \"GET /socket.io/?EIO=4&transport=polling&t=bll3rtkh HTTP/1.1\" 200 -\n",
      "INFO:werkzeug:127.0.0.1 - - [18/Nov/2024 06:46:36] \"POST /socket.io/?EIO=4&transport=polling&t=blld2wt9&sid=mHcuR3trkLc5FfqEAAAn HTTP/1.1\" 200 -\n",
      "INFO:werkzeug:127.0.0.1 - - [18/Nov/2024 06:46:36] \"GET /socket.io/?EIO=4&transport=polling&t=blld2nqd&sid=mHcuR3trkLc5FfqEAAAn HTTP/1.1\" 200 -\n"
     ]
    },
    {
     "name": "stdout",
     "output_type": "stream",
     "text": [
      "Client connected\n"
     ]
    },
    {
     "name": "stderr",
     "output_type": "stream",
     "text": [
      "INFO:werkzeug:127.0.0.1 - - [18/Nov/2024 06:47:03] \"GET /socket.io/?EIO=4&transport=websocket&sid=mHcuR3trkLc5FfqEAAAn HTTP/1.1\" 200 -\n"
     ]
    },
    {
     "name": "stdout",
     "output_type": "stream",
     "text": [
      "Client disconnected\n"
     ]
    },
    {
     "name": "stderr",
     "output_type": "stream",
     "text": [
      "INFO:werkzeug:127.0.0.1 - - [18/Nov/2024 06:47:03] \"GET /socket.io/?EIO=4&transport=polling&t=bm6k86mj HTTP/1.1\" 200 -\n",
      "INFO:werkzeug:127.0.0.1 - - [18/Nov/2024 06:47:04] \"POST /socket.io/?EIO=4&transport=polling&t=bm6l0nmo&sid=Axqf_d0ZGcsmUufWAAAp HTTP/1.1\" 200 -\n",
      "INFO:werkzeug:127.0.0.1 - - [18/Nov/2024 06:47:04] \"GET /socket.io/?EIO=4&transport=polling&t=bm6l210k&sid=Axqf_d0ZGcsmUufWAAAp HTTP/1.1\" 200 -\n"
     ]
    },
    {
     "name": "stdout",
     "output_type": "stream",
     "text": [
      "Client connected\n"
     ]
    },
    {
     "name": "stderr",
     "output_type": "stream",
     "text": [
      "INFO:werkzeug:127.0.0.1 - - [18/Nov/2024 06:47:06] \"GET /start HTTP/1.1\" 200 -\n",
      "E:\\AnacondaS\\lib\\site-packages\\google\\protobuf\\symbol_database.py:55: UserWarning: SymbolDatabase.GetPrototype() is deprecated. Please use message_factory.GetMessageClass() instead. SymbolDatabase.GetPrototype() will be removed soon.\n",
      "  warnings.warn('SymbolDatabase.GetPrototype() is deprecated. Please '\n"
     ]
    },
    {
     "name": "stdout",
     "output_type": "stream",
     "text": [
      "\u001b[1m1/1\u001b[0m \u001b[32m━━━━━━━━━━━━━━━━━━━━\u001b[0m\u001b[37m\u001b[0m \u001b[1m0s\u001b[0m 32ms/step\n"
     ]
    },
    {
     "name": "stderr",
     "output_type": "stream",
     "text": [
      "E:\\AnacondaS\\lib\\site-packages\\google\\protobuf\\symbol_database.py:55: UserWarning: SymbolDatabase.GetPrototype() is deprecated. Please use message_factory.GetMessageClass() instead. SymbolDatabase.GetPrototype() will be removed soon.\n",
      "  warnings.warn('SymbolDatabase.GetPrototype() is deprecated. Please '\n",
      "INFO:werkzeug:127.0.0.1 - - [18/Nov/2024 06:47:11] \"GET /stop HTTP/1.1\" 200 -\n"
     ]
    },
    {
     "name": "stdout",
     "output_type": "stream",
     "text": [
      "chora\n"
     ]
    },
    {
     "name": "stderr",
     "output_type": "stream",
     "text": [
      "INFO:werkzeug:127.0.0.1 - - [18/Nov/2024 06:47:27] \"GET /socket.io/?EIO=4&transport=websocket&sid=Axqf_d0ZGcsmUufWAAAp HTTP/1.1\" 200 -\n",
      "INFO:werkzeug:127.0.0.1 - - [18/Nov/2024 06:47:27] \"GET /socket.io/?EIO=4&transport=polling&t=bmotnsbq HTTP/1.1\" 200 -\n"
     ]
    },
    {
     "name": "stdout",
     "output_type": "stream",
     "text": [
      "Client disconnected\n"
     ]
    },
    {
     "name": "stderr",
     "output_type": "stream",
     "text": [
      "INFO:werkzeug:127.0.0.1 - - [18/Nov/2024 06:47:27] \"POST /socket.io/?EIO=4&transport=polling&t=bmotv7sk&sid=oc7WgDoqgUbb6E2BAAAr HTTP/1.1\" 200 -\n",
      "INFO:werkzeug:127.0.0.1 - - [18/Nov/2024 06:47:27] \"GET /socket.io/?EIO=4&transport=polling&t=bmotwt74&sid=oc7WgDoqgUbb6E2BAAAr HTTP/1.1\" 200 -\n"
     ]
    },
    {
     "name": "stdout",
     "output_type": "stream",
     "text": [
      "Client connected\n"
     ]
    },
    {
     "name": "stderr",
     "output_type": "stream",
     "text": [
      "INFO:werkzeug:127.0.0.1 - - [18/Nov/2024 06:47:30] \"GET /socket.io/?EIO=4&transport=websocket&sid=oc7WgDoqgUbb6E2BAAAr HTTP/1.1\" 200 -\n",
      "INFO:werkzeug:127.0.0.1 - - [18/Nov/2024 06:47:30] \"GET /socket.io/?EIO=4&transport=polling&t=bmrmcmbu HTTP/1.1\" 200 -\n"
     ]
    },
    {
     "name": "stdout",
     "output_type": "stream",
     "text": [
      "Client disconnected\n"
     ]
    },
    {
     "name": "stderr",
     "output_type": "stream",
     "text": [
      "INFO:werkzeug:127.0.0.1 - - [18/Nov/2024 06:47:31] \"POST /socket.io/?EIO=4&transport=polling&t=bmrmk4rk&sid=Kqgspv8Xn7F55TzLAAAt HTTP/1.1\" 200 -\n",
      "INFO:werkzeug:127.0.0.1 - - [18/Nov/2024 06:47:31] \"GET /socket.io/?EIO=4&transport=polling&t=bmrmlet9&sid=Kqgspv8Xn7F55TzLAAAt HTTP/1.1\" 200 -\n"
     ]
    },
    {
     "name": "stdout",
     "output_type": "stream",
     "text": [
      "Client connected\n"
     ]
    },
    {
     "name": "stderr",
     "output_type": "stream",
     "text": [
      "INFO:werkzeug:127.0.0.1 - - [18/Nov/2024 06:48:38] \"GET /start HTTP/1.1\" 200 -\n",
      "E:\\AnacondaS\\lib\\site-packages\\google\\protobuf\\symbol_database.py:55: UserWarning: SymbolDatabase.GetPrototype() is deprecated. Please use message_factory.GetMessageClass() instead. SymbolDatabase.GetPrototype() will be removed soon.\n",
      "  warnings.warn('SymbolDatabase.GetPrototype() is deprecated. Please '\n"
     ]
    },
    {
     "name": "stdout",
     "output_type": "stream",
     "text": [
      "\u001b[1m4/4\u001b[0m \u001b[32m━━━━━━━━━━━━━━━━━━━━\u001b[0m\u001b[37m\u001b[0m \u001b[1m0s\u001b[0m 5ms/step \n"
     ]
    },
    {
     "name": "stderr",
     "output_type": "stream",
     "text": [
      "E:\\AnacondaS\\lib\\site-packages\\google\\protobuf\\symbol_database.py:55: UserWarning: SymbolDatabase.GetPrototype() is deprecated. Please use message_factory.GetMessageClass() instead. SymbolDatabase.GetPrototype() will be removed soon.\n",
      "  warnings.warn('SymbolDatabase.GetPrototype() is deprecated. Please '\n",
      "INFO:werkzeug:127.0.0.1 - - [18/Nov/2024 06:48:57] \"GET /stop HTTP/1.1\" 200 -\n"
     ]
    },
    {
     "name": "stdout",
     "output_type": "stream",
     "text": [
      "chora\n"
     ]
    },
    {
     "name": "stderr",
     "output_type": "stream",
     "text": [
      "INFO:werkzeug:127.0.0.1 - - [18/Nov/2024 06:49:31] \"GET /socket.io/?EIO=4&transport=websocket&sid=Kqgspv8Xn7F55TzLAAAt HTTP/1.1\" 200 -\n"
     ]
    },
    {
     "name": "stdout",
     "output_type": "stream",
     "text": [
      "Client disconnected\n"
     ]
    },
    {
     "name": "stderr",
     "output_type": "stream",
     "text": [
      "INFO:werkzeug:127.0.0.1 - - [18/Nov/2024 06:49:31] \"GET /socket.io/?EIO=4&transport=polling&t=bpci3kz5 HTTP/1.1\" 200 -\n",
      "INFO:werkzeug:127.0.0.1 - - [18/Nov/2024 06:49:31] \"POST /socket.io/?EIO=4&transport=polling&t=bpcqwmmp&sid=fs-l-kh0YIDoZPiFAAAv HTTP/1.1\" 200 -\n",
      "INFO:werkzeug:127.0.0.1 - - [18/Nov/2024 06:49:31] \"GET /socket.io/?EIO=4&transport=polling&t=bpcqx0y3&sid=fs-l-kh0YIDoZPiFAAAv HTTP/1.1\" 200 -\n",
      "INFO:werkzeug:127.0.0.1 - - [18/Nov/2024 06:49:32] \"GET /socket.io/?EIO=4&transport=polling&t=bpcznh5b&sid=fs-l-kh0YIDoZPiFAAAv HTTP/1.1\" 200 -\n"
     ]
    },
    {
     "name": "stdout",
     "output_type": "stream",
     "text": [
      "Client connected\n"
     ]
    },
    {
     "name": "stderr",
     "output_type": "stream",
     "text": [
      "INFO:werkzeug:127.0.0.1 - - [18/Nov/2024 06:49:32] \"GET /socket.io/?EIO=4&transport=websocket&sid=fs-l-kh0YIDoZPiFAAAv HTTP/1.1\" 200 -\n"
     ]
    },
    {
     "name": "stdout",
     "output_type": "stream",
     "text": [
      "Client disconnected\n"
     ]
    },
    {
     "name": "stderr",
     "output_type": "stream",
     "text": [
      "INFO:werkzeug:127.0.0.1 - - [18/Nov/2024 06:49:32] \"GET /socket.io/?EIO=4&transport=polling&t=bpd9xine HTTP/1.1\" 200 -\n",
      "INFO:werkzeug:127.0.0.1 - - [18/Nov/2024 06:49:32] \"POST /socket.io/?EIO=4&transport=polling&t=bpdj2gpl&sid=2shCw2tix4S5xbENAAAx HTTP/1.1\" 200 -\n",
      "INFO:werkzeug:127.0.0.1 - - [18/Nov/2024 06:49:33] \"GET /socket.io/?EIO=4&transport=polling&t=bpdj451n&sid=2shCw2tix4S5xbENAAAx HTTP/1.1\" 200 -\n"
     ]
    },
    {
     "name": "stdout",
     "output_type": "stream",
     "text": [
      "Client connected\n"
     ]
    },
    {
     "name": "stderr",
     "output_type": "stream",
     "text": [
      "INFO:werkzeug:127.0.0.1 - - [18/Nov/2024 06:49:34] \"GET /socket.io/?EIO=4&transport=websocket&sid=2shCw2tix4S5xbENAAAx HTTP/1.1\" 200 -\n",
      "INFO:werkzeug:127.0.0.1 - - [18/Nov/2024 06:49:34] \"GET /socket.io/?EIO=4&transport=polling&t=bpf2gg9l HTTP/1.1\" 200 -\n"
     ]
    },
    {
     "name": "stdout",
     "output_type": "stream",
     "text": [
      "Client disconnected\n"
     ]
    },
    {
     "name": "stderr",
     "output_type": "stream",
     "text": [
      "INFO:werkzeug:127.0.0.1 - - [18/Nov/2024 06:49:35] \"POST /socket.io/?EIO=4&transport=polling&t=bpf2qaz5&sid=eHRmuiVvoND7E6qXAAAz HTTP/1.1\" 200 -\n",
      "INFO:werkzeug:127.0.0.1 - - [18/Nov/2024 06:49:35] \"GET /socket.io/?EIO=4&transport=polling&t=bpf2re5i&sid=eHRmuiVvoND7E6qXAAAz HTTP/1.1\" 200 -\n"
     ]
    },
    {
     "name": "stdout",
     "output_type": "stream",
     "text": [
      "Client connected\n"
     ]
    },
    {
     "name": "stderr",
     "output_type": "stream",
     "text": [
      "INFO:werkzeug:127.0.0.1 - - [18/Nov/2024 06:49:35] \"GET /start HTTP/1.1\" 200 -\n",
      "E:\\AnacondaS\\lib\\site-packages\\google\\protobuf\\symbol_database.py:55: UserWarning: SymbolDatabase.GetPrototype() is deprecated. Please use message_factory.GetMessageClass() instead. SymbolDatabase.GetPrototype() will be removed soon.\n",
      "  warnings.warn('SymbolDatabase.GetPrototype() is deprecated. Please '\n"
     ]
    },
    {
     "name": "stdout",
     "output_type": "stream",
     "text": [
      "\u001b[1m2/2\u001b[0m \u001b[32m━━━━━━━━━━━━━━━━━━━━\u001b[0m\u001b[37m\u001b[0m \u001b[1m0s\u001b[0m 8ms/step \n"
     ]
    },
    {
     "name": "stderr",
     "output_type": "stream",
     "text": [
      "INFO:werkzeug:127.0.0.1 - - [18/Nov/2024 06:49:46] \"GET /stop HTTP/1.1\" 200 -\n"
     ]
    },
    {
     "name": "stdout",
     "output_type": "stream",
     "text": [
      "bhadra\n"
     ]
    },
    {
     "name": "stderr",
     "output_type": "stream",
     "text": [
      "E:\\AnacondaS\\lib\\site-packages\\google\\protobuf\\symbol_database.py:55: UserWarning: SymbolDatabase.GetPrototype() is deprecated. Please use message_factory.GetMessageClass() instead. SymbolDatabase.GetPrototype() will be removed soon.\n",
      "  warnings.warn('SymbolDatabase.GetPrototype() is deprecated. Please '\n",
      "INFO:werkzeug:127.0.0.1 - - [18/Nov/2024 06:51:24] \"GET /socket.io/?EIO=4&transport=websocket&sid=eHRmuiVvoND7E6qXAAAz HTTP/1.1\" 200 -\n"
     ]
    },
    {
     "name": "stdout",
     "output_type": "stream",
     "text": [
      "Client disconnected\n"
     ]
    },
    {
     "name": "stderr",
     "output_type": "stream",
     "text": [
      "INFO:werkzeug:127.0.0.1 - - [18/Nov/2024 06:51:24] \"GET /socket.io/?EIO=4&transport=polling&t=brrpb95g HTTP/1.1\" 200 -\n",
      "INFO:werkzeug:127.0.0.1 - - [18/Nov/2024 06:51:24] \"POST /socket.io/?EIO=4&transport=polling&t=brry3yl8&sid=jqLbz153_FdH6z8BAAA1 HTTP/1.1\" 200 -\n",
      "INFO:werkzeug:127.0.0.1 - - [18/Nov/2024 06:51:25] \"GET /socket.io/?EIO=4&transport=polling&t=brry46k7&sid=jqLbz153_FdH6z8BAAA1 HTTP/1.1\" 200 -\n"
     ]
    },
    {
     "name": "stdout",
     "output_type": "stream",
     "text": [
      "Client connected\n"
     ]
    },
    {
     "name": "stderr",
     "output_type": "stream",
     "text": [
      "INFO:werkzeug:127.0.0.1 - - [18/Nov/2024 06:51:46] \"GET /socket.io/?EIO=4&transport=websocket&sid=jqLbz153_FdH6z8BAAA1 HTTP/1.1\" 200 -\n",
      "INFO:werkzeug:127.0.0.1 - - [18/Nov/2024 06:51:46] \"GET /socket.io/?EIO=4&transport=polling&t=bs8nxcsj HTTP/1.1\" 200 -\n"
     ]
    },
    {
     "name": "stdout",
     "output_type": "stream",
     "text": [
      "Client disconnected\n"
     ]
    },
    {
     "name": "stderr",
     "output_type": "stream",
     "text": [
      "INFO:werkzeug:127.0.0.1 - - [18/Nov/2024 06:51:46] \"POST /socket.io/?EIO=4&transport=polling&t=bs8o3udj&sid=3w-6_305HpiVjdJUAAA3 HTTP/1.1\" 200 -\n",
      "INFO:werkzeug:127.0.0.1 - - [18/Nov/2024 06:51:46] \"GET /socket.io/?EIO=4&transport=polling&t=bs8o4sxo&sid=3w-6_305HpiVjdJUAAA3 HTTP/1.1\" 200 -\n"
     ]
    },
    {
     "name": "stdout",
     "output_type": "stream",
     "text": [
      "Client connected\n"
     ]
    },
    {
     "name": "stderr",
     "output_type": "stream",
     "text": [
      "INFO:werkzeug:127.0.0.1 - - [18/Nov/2024 06:51:47] \"GET /socket.io/?EIO=4&transport=websocket&sid=3w-6_305HpiVjdJUAAA3 HTTP/1.1\" 200 -\n",
      "INFO:werkzeug:127.0.0.1 - - [18/Nov/2024 06:51:47] \"GET /socket.io/?EIO=4&transport=polling&t=bs9u6vjg HTTP/1.1\" 200 -\n"
     ]
    },
    {
     "name": "stdout",
     "output_type": "stream",
     "text": [
      "Client disconnected\n"
     ]
    },
    {
     "name": "stderr",
     "output_type": "stream",
     "text": [
      "INFO:werkzeug:127.0.0.1 - - [18/Nov/2024 06:51:48] \"POST /socket.io/?EIO=4&transport=polling&t=bs9ue4sd&sid=1ajBUKmQ5nqr2ZbMAAA5 HTTP/1.1\" 200 -\n",
      "INFO:werkzeug:127.0.0.1 - - [18/Nov/2024 06:51:48] \"GET /socket.io/?EIO=4&transport=polling&t=bs9ufr0s&sid=1ajBUKmQ5nqr2ZbMAAA5 HTTP/1.1\" 200 -\n"
     ]
    },
    {
     "name": "stdout",
     "output_type": "stream",
     "text": [
      "Client connected\n"
     ]
    },
    {
     "name": "stderr",
     "output_type": "stream",
     "text": [
      "INFO:werkzeug:127.0.0.1 - - [18/Nov/2024 06:51:51] \"GET /socket.io/?EIO=4&transport=polling&t=bscizajk HTTP/1.1\" 200 -\n",
      "INFO:werkzeug:127.0.0.1 - - [18/Nov/2024 06:51:51] \"GET /socket.io/?EIO=4&transport=websocket&sid=1ajBUKmQ5nqr2ZbMAAA5 HTTP/1.1\" 200 -\n"
     ]
    },
    {
     "name": "stdout",
     "output_type": "stream",
     "text": [
      "Client disconnected\n"
     ]
    },
    {
     "name": "stderr",
     "output_type": "stream",
     "text": [
      "INFO:werkzeug:127.0.0.1 - - [18/Nov/2024 06:51:51] \"POST /socket.io/?EIO=4&transport=polling&t=bscjboej&sid=aKFUoI7Rxs3zuCGFAAA7 HTTP/1.1\" 200 -\n",
      "INFO:werkzeug:127.0.0.1 - - [18/Nov/2024 06:51:51] \"GET /socket.io/?EIO=4&transport=polling&t=bscjbwnt&sid=aKFUoI7Rxs3zuCGFAAA7 HTTP/1.1\" 200 -\n"
     ]
    },
    {
     "name": "stdout",
     "output_type": "stream",
     "text": [
      "Client connected\n"
     ]
    },
    {
     "name": "stderr",
     "output_type": "stream",
     "text": [
      "INFO:werkzeug:127.0.0.1 - - [18/Nov/2024 06:51:52] \"GET /socket.io/?EIO=4&transport=websocket&sid=aKFUoI7Rxs3zuCGFAAA7 HTTP/1.1\" 200 -\n",
      "INFO:werkzeug:127.0.0.1 - - [18/Nov/2024 06:51:52] \"GET /socket.io/?EIO=4&transport=polling&t=bsdg0d1b HTTP/1.1\" 200 -\n"
     ]
    },
    {
     "name": "stdout",
     "output_type": "stream",
     "text": [
      "Client disconnected\n"
     ]
    },
    {
     "name": "stderr",
     "output_type": "stream",
     "text": [
      "INFO:werkzeug:127.0.0.1 - - [18/Nov/2024 06:51:52] \"POST /socket.io/?EIO=4&transport=polling&t=bsdg8nae&sid=7I7-CIOhUwlUCpCMAAA9 HTTP/1.1\" 200 -\n",
      "INFO:werkzeug:127.0.0.1 - - [18/Nov/2024 06:51:52] \"GET /socket.io/?EIO=4&transport=polling&t=bsdg9u44&sid=7I7-CIOhUwlUCpCMAAA9 HTTP/1.1\" 200 -\n"
     ]
    },
    {
     "name": "stdout",
     "output_type": "stream",
     "text": [
      "Client connected\n"
     ]
    },
    {
     "name": "stderr",
     "output_type": "stream",
     "text": [
      "INFO:werkzeug:127.0.0.1 - - [18/Nov/2024 06:52:10] \"GET /start HTTP/1.1\" 200 -\n"
     ]
    },
    {
     "name": "stdout",
     "output_type": "stream",
     "text": [
      "\u001b[1m5/5\u001b[0m \u001b[32m━━━━━━━━━━━━━━━━━━━━\u001b[0m\u001b[37m\u001b[0m \u001b[1m0s\u001b[0m 5ms/step \n"
     ]
    },
    {
     "name": "stderr",
     "output_type": "stream",
     "text": [
      "E:\\AnacondaS\\lib\\site-packages\\google\\protobuf\\symbol_database.py:55: UserWarning: SymbolDatabase.GetPrototype() is deprecated. Please use message_factory.GetMessageClass() instead. SymbolDatabase.GetPrototype() will be removed soon.\n",
      "  warnings.warn('SymbolDatabase.GetPrototype() is deprecated. Please '\n",
      "INFO:werkzeug:127.0.0.1 - - [18/Nov/2024 06:52:31] \"GET /stop HTTP/1.1\" 200 -\n"
     ]
    },
    {
     "name": "stdout",
     "output_type": "stream",
     "text": [
      "chora\n"
     ]
    }
   ],
   "source": [
    "from flask import Flask, render_template, jsonify\n",
    "from flask_socketio import SocketIO, emit\n",
    "import threading\n",
    "import cv2\n",
    "import mediapipe as mp\n",
    "import time\n",
    "import os\n",
    "import csv\n",
    "import numpy as np\n",
    "import pandas as pd\n",
    "from tensorflow.keras.models import load_model\n",
    "from collections import Counter\n",
    "from sklearn.preprocessing import LabelEncoder\n",
    "from flask_cors import CORS\n",
    "\n",
    "# Initialize Flask and Flask-SocketIO\n",
    "app = Flask(__name__)\n",
    "\n",
    "# Allow cross-origin requests from React app running on localhost:5173\n",
    "socketio = SocketIO(app, cors_allowed_origins=\"http://localhost:5173\")\n",
    "key_face_landmarks_indices = [1, 33, 263, 61, 291, 199]  \n",
    "\n",
    "# Camera and MediaPipe setup\n",
    "mp_holistic = mp.solutions.holistic\n",
    "holistic = mp_holistic.Holistic(static_image_mode=False, \n",
    "                                model_complexity=2, \n",
    "                                min_detection_confidence=0.4, \n",
    "                                min_tracking_confidence=0.4)\n",
    "\n",
    "cap = None\n",
    "is_running = False\n",
    "landmark_data = []  # Store landmarks here\n",
    "\n",
    "# Define model and label encoder\n",
    "model = load_model('gesture_to_word_modelv2.0.h5')\n",
    "labels = [\n",
    "    'Bar', 'hajurama', 'baishak', 'pariwar', 'Dikka', 'bigyapan', 'mama', \n",
    "    'Eklopan', 'aama', 'ashar', 'bass', 'ashoj', 'shreemati', 'chora', \n",
    "    'buba', 'shreeman', 'Bhok', 'baba', 'Dukhi', 'Achamma', 'bhauju', \n",
    "    'angalo', 'udharo', 'Alchi', 'bhadra', 'kaki', 'chori', 'Sahanayak kosadhyaksa', \n",
    "    'hajurbuba', 'chaitra', 'bhena', 'maiju', 'kaka'\n",
    "]\n",
    "label_encoder = LabelEncoder()\n",
    "label_encoder.fit(labels)\n",
    "\n",
    "\n",
    "\n",
    "# Start the camera feed\n",
    "@app.route('/start')\n",
    "def start_camera():\n",
    "    global is_running, landmark_data\n",
    "    if not is_running:\n",
    "        is_running = True\n",
    "        landmark_data = []  # Reset the landmark data\n",
    "        threading.Thread(target=process_camera_feed, daemon=True).start()\n",
    "    return \"Camera started\"\n",
    "\n",
    "# Stop the camera feed\n",
    "@app.route('/stop')\n",
    "def stop_camera():\n",
    "    global is_running\n",
    "    is_running = False\n",
    "    # Save landmarks to CSV when stopped\n",
    "    save_landmarks_to_csv(landmark_data, './camera_output_signals.csv')\n",
    "    # Predict gesture using saved CSV\n",
    "    predicted_word = predict_gesture('./camera_output_signals.csv')\n",
    "    print(predicted_word)\n",
    "    return jsonify({\"predicted_word\": predicted_word})\n",
    "\n",
    "# Process camera feed and extract landmarks\n",
    "def process_camera_feed():\n",
    "    global cap, is_running, landmark_data\n",
    "    cap = cv2.VideoCapture(0)\n",
    "\n",
    "    while is_running:\n",
    "        ret, frame = cap.read()\n",
    "        if not ret:\n",
    "            break\n",
    "\n",
    "        rgb_frame = cv2.cvtColor(frame, cv2.COLOR_BGR2RGB)\n",
    "        results = holistic.process(rgb_frame)\n",
    "\n",
    "        frame_landmarks = {}\n",
    "        if results.pose_landmarks:\n",
    "            frame_landmarks['pose'] = [(landmark.x, landmark.y, landmark.z) for landmark in results.pose_landmarks.landmark]\n",
    "        if results.face_landmarks:\n",
    "            frame_landmarks['face'] = [(landmark.x, landmark.y, landmark.z) for idx, landmark in enumerate(results.face_landmarks.landmark) if idx in key_face_landmarks_indices]\n",
    "        if results.left_hand_landmarks:\n",
    "            frame_landmarks['left_hand'] = [(landmark.x, landmark.y, landmark.z) for landmark in results.left_hand_landmarks.landmark]\n",
    "        if results.right_hand_landmarks:\n",
    "            frame_landmarks['right_hand'] = [(landmark.x, landmark.y, landmark.z) for landmark in results.right_hand_landmarks.landmark]\n",
    "\n",
    "        landmark_data.append(frame_landmarks)\n",
    "        \n",
    "        \n",
    "        # Draw landmarks on the frame\n",
    "        frame_with_landmarks = draw_landmarks(frame, results)\n",
    "\n",
    "\n",
    "        # Encode the frame as JPEG\n",
    "        _, jpeg = cv2.imencode('.jpg', frame_with_landmarks)\n",
    "        frame_bytes = jpeg.tobytes()\n",
    "\n",
    "        # Emit the frame to the frontend\n",
    "        socketio.emit('video_frame', frame_bytes)\n",
    "        time.sleep(0.03)  # Simulate FPS\n",
    "\n",
    "    cap.release()\n",
    "    \n",
    "    \n",
    "\n",
    "    \n",
    "    \n",
    "# Function to draw landmarks on the frame\n",
    "def draw_landmarks(frame, results):\n",
    "    if results.pose_landmarks:\n",
    "        mp.solutions.drawing_utils.draw_landmarks(frame, results.pose_landmarks, mp_holistic.POSE_CONNECTIONS)\n",
    "    \n",
    "    if results.face_landmarks:\n",
    "        mp.solutions.drawing_utils.draw_landmarks(frame, results.face_landmarks, mp_holistic.FACEMESH_CONTOURS)\n",
    "    \n",
    "    if results.left_hand_landmarks:\n",
    "        mp.solutions.drawing_utils.draw_landmarks(frame, results.left_hand_landmarks, mp_holistic.HAND_CONNECTIONS)\n",
    "    \n",
    "    if results.right_hand_landmarks:\n",
    "        mp.solutions.drawing_utils.draw_landmarks(frame, results.right_hand_landmarks, mp_holistic.HAND_CONNECTIONS)\n",
    "    \n",
    "    return frame    \n",
    "\n",
    "# Save landmarks to CSV\n",
    "def save_landmarks_to_csv(landmark_data, csv_path):\n",
    "    with open(csv_path, 'w', newline='') as csvfile:\n",
    "        csvwriter = csv.writer(csvfile)\n",
    "        header = ['frame', 'type', 'index', 'x', 'y', 'z']\n",
    "        csvwriter.writerow(header)\n",
    "\n",
    "        for frame_index, frame_data in enumerate(landmark_data):\n",
    "            for landmark_type, landmarks in frame_data.items():\n",
    "                for idx, (x, y, z) in enumerate(landmarks):\n",
    "                    csvwriter.writerow([frame_index, landmark_type, idx, x, y, z])\n",
    "\n",
    "# Prepare input data for gesture prediction\n",
    "def prepare_input_data(csv_file_path, sequence_length=30):\n",
    "    df = pd.read_csv(csv_file_path)\n",
    "    landmarks = df[['x', 'y', 'z']].values\n",
    "    num_frames = len(landmarks)\n",
    "\n",
    "    sequences = []\n",
    "    for start in range(0, num_frames - sequence_length, sequence_length):\n",
    "        sequence = landmarks[start:start + sequence_length]\n",
    "        sequences.append(sequence)\n",
    "\n",
    "    return np.array(sequences)\n",
    "\n",
    "# Predict gesture based on CSV file\n",
    "def predict_gesture(csv_file_path, sequence_length=30):\n",
    "    sequences = prepare_input_data(csv_file_path, sequence_length)\n",
    "    predictions = model.predict(sequences)\n",
    "    predicted_class_idx = np.argmax(predictions, axis=1)\n",
    "    predicted_labels = label_encoder.inverse_transform(predicted_class_idx)\n",
    "    \n",
    "    # Get the most frequent prediction\n",
    "    label_counts = Counter(predicted_labels)\n",
    "    most_common_label, most_common_count = label_counts.most_common(1)[0]\n",
    "    \n",
    "    return most_common_label\n",
    "\n",
    "\n",
    "\n",
    "\n",
    "@socketio.on('connect')\n",
    "def handle_connect():\n",
    "    print(\"Client connected\")\n",
    "\n",
    "@socketio.on('disconnect')\n",
    "def handle_disconnect():\n",
    "    print(\"Client disconnected\")\n",
    "\n",
    "if __name__ == '__main__':\n",
    "    CORS(app, origins=[\"http://localhost:5173\"])\n",
    "    socketio.run(app, host='0.0.0.0', port=5000, allow_unsafe_werkzeug=True)\n"
   ]
  },
  {
   "cell_type": "code",
   "execution_count": null,
   "id": "108af3eb-1106-40ca-9109-1ca9b46269b5",
   "metadata": {},
   "outputs": [],
   "source": []
  }
 ],
 "metadata": {
  "kernelspec": {
   "display_name": "Python 3 (ipykernel)",
   "language": "python",
   "name": "python3"
  },
  "language_info": {
   "codemirror_mode": {
    "name": "ipython",
    "version": 3
   },
   "file_extension": ".py",
   "mimetype": "text/x-python",
   "name": "python",
   "nbconvert_exporter": "python",
   "pygments_lexer": "ipython3",
   "version": "3.10.13"
  }
 },
 "nbformat": 4,
 "nbformat_minor": 5
}
